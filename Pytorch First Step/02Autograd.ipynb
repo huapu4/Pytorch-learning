{
 "cells": [
  {
   "cell_type": "code",
   "execution_count": 1,
   "metadata": {},
   "outputs": [],
   "source": [
    "from __future__ import print_function\n",
    "import torch as t\n",
    "from torch.autograd import Variable as V"
   ]
  },
  {
   "cell_type": "code",
   "execution_count": 2,
   "metadata": {},
   "outputs": [
    {
     "data": {
      "text/plain": [
       "tensor([[1., 1.],\n",
       "        [1., 1.]], requires_grad=True)"
      ]
     },
     "execution_count": 2,
     "metadata": {},
     "output_type": "execute_result"
    }
   ],
   "source": [
    "x = V(t.ones(2,2),requires_grad = True)\n",
    "x"
   ]
  },
  {
   "cell_type": "code",
   "execution_count": 3,
   "metadata": {},
   "outputs": [
    {
     "data": {
      "text/plain": [
       "tensor(4., grad_fn=<SumBackward0>)"
      ]
     },
     "execution_count": 3,
     "metadata": {},
     "output_type": "execute_result"
    }
   ],
   "source": [
    "y = x.sum()\n",
    "y"
   ]
  },
  {
   "cell_type": "code",
   "execution_count": 4,
   "metadata": {},
   "outputs": [
    {
     "data": {
      "text/plain": [
       "<SumBackward0 at 0x7f10b4691cc0>"
      ]
     },
     "execution_count": 4,
     "metadata": {},
     "output_type": "execute_result"
    }
   ],
   "source": [
    "y.grad_fn"
   ]
  },
  {
   "cell_type": "code",
   "execution_count": 5,
   "metadata": {},
   "outputs": [
    {
     "data": {
      "text/plain": [
       "tensor([[1., 1.],\n",
       "        [1., 1.]])"
      ]
     },
     "execution_count": 5,
     "metadata": {},
     "output_type": "execute_result"
    }
   ],
   "source": [
    "y.backward()\n",
    "x.grad"
   ]
  },
  {
   "cell_type": "code",
   "execution_count": 6,
   "metadata": {},
   "outputs": [
    {
     "data": {
      "text/plain": [
       "tensor([[2., 2.],\n",
       "        [2., 2.]])"
      ]
     },
     "execution_count": 6,
     "metadata": {},
     "output_type": "execute_result"
    }
   ],
   "source": [
    "y.backward()\n",
    "x.grad"
   ]
  },
  {
   "cell_type": "code",
   "execution_count": 7,
   "metadata": {},
   "outputs": [
    {
     "data": {
      "text/plain": [
       "tensor([[3., 3.],\n",
       "        [3., 3.]])"
      ]
     },
     "execution_count": 7,
     "metadata": {},
     "output_type": "execute_result"
    }
   ],
   "source": [
    "y.backward()\n",
    "x.grad"
   ]
  },
  {
   "cell_type": "code",
   "execution_count": 8,
   "metadata": {},
   "outputs": [
    {
     "data": {
      "text/plain": [
       "tensor([[1., 1.],\n",
       "        [1., 1.]], requires_grad=True)"
      ]
     },
     "execution_count": 8,
     "metadata": {},
     "output_type": "execute_result"
    }
   ],
   "source": [
    "x.grad.data.zero_()\n",
    "x"
   ]
  },
  {
   "cell_type": "code",
   "execution_count": 9,
   "metadata": {},
   "outputs": [
    {
     "data": {
      "text/plain": [
       "(tensor([[1., 1., 1., 1., 1.],\n",
       "         [1., 1., 1., 1., 1.],\n",
       "         [1., 1., 1., 1., 1.],\n",
       "         [1., 1., 1., 1., 1.]]),\n",
       " tensor([[0.5403, 0.5403, 0.5403, 0.5403, 0.5403],\n",
       "         [0.5403, 0.5403, 0.5403, 0.5403, 0.5403],\n",
       "         [0.5403, 0.5403, 0.5403, 0.5403, 0.5403],\n",
       "         [0.5403, 0.5403, 0.5403, 0.5403, 0.5403]]),\n",
       " tensor([[1., 1., 1., 1., 1.],\n",
       "         [1., 1., 1., 1., 1.],\n",
       "         [1., 1., 1., 1., 1.],\n",
       "         [1., 1., 1., 1., 1.]]),\n",
       " tensor([[0.5403, 0.5403, 0.5403, 0.5403, 0.5403],\n",
       "         [0.5403, 0.5403, 0.5403, 0.5403, 0.5403],\n",
       "         [0.5403, 0.5403, 0.5403, 0.5403, 0.5403],\n",
       "         [0.5403, 0.5403, 0.5403, 0.5403, 0.5403]]))"
      ]
     },
     "execution_count": 9,
     "metadata": {},
     "output_type": "execute_result"
    }
   ],
   "source": [
    "#Variable和Tensor接口近乎一致，可以做到无缝切换\n",
    "x = V(t.ones(4,5))\n",
    "y = t.cos(x)\n",
    "x_tensor_cos = t.cos(x.data)\n",
    "x, y, x.data, x_tensor_cos\n",
    "\n"
   ]
  },
  {
   "cell_type": "code",
   "execution_count": 10,
   "metadata": {},
   "outputs": [
    {
     "name": "stdout",
     "output_type": "stream",
     "text": [
      "tensor([[1., 1., 1., 1.],\n",
      "        [1., 1., 1., 1.],\n",
      "        [1., 1., 1., 1.]], requires_grad=True)\n",
      "tensor([[0., 0., 0., 0.],\n",
      "        [0., 0., 0., 0.],\n",
      "        [0., 0., 0., 0.]])\n",
      "tensor([[1., 1., 1., 1.],\n",
      "        [1., 1., 1., 1.],\n",
      "        [1., 1., 1., 1.]], grad_fn=<AddBackward0>)\n"
     ]
    }
   ],
   "source": [
    "a = V(t.ones(3,4), requires_grad = True)\n",
    "b = V(t.zeros(3,4))\n",
    "c = a + b # 等价于 a.add(b)\n",
    "print(a)\n",
    "print(b)\n",
    "print(c)"
   ]
  },
  {
   "cell_type": "markdown",
   "metadata": {},
   "source": [
    "### autograd计算的导数 VS 手动推导的导数\n",
    "## $$y=x^2e^x$$\n",
    "### 导数为：\n",
    "## $$2xe^x+x^2e^x$$"
   ]
  },
  {
   "cell_type": "code",
   "execution_count": 11,
   "metadata": {},
   "outputs": [],
   "source": [
    "def f(x):\n",
    "    #原式\n",
    "    y = x ** 2 * t.exp(x)\n",
    "    return y\n",
    "    \n",
    "    #手动求导方法\n",
    "def gradf(x):\n",
    "    dx = 2 * x * t.exp(x) + x ** 2 * t.exp(x)\n",
    "    return dx"
   ]
  },
  {
   "cell_type": "code",
   "execution_count": 12,
   "metadata": {},
   "outputs": [
    {
     "name": "stdout",
     "output_type": "stream",
     "text": [
      "tensor([[1.2099e-01, 2.4156e-02, 9.3368e-01, 5.2788e-01],\n",
      "        [3.5220e-02, 3.0246e-01, 3.3324e-01, 5.9175e+00],\n",
      "        [5.2048e-01, 5.6312e-05, 5.9863e-01, 1.1042e+00]],\n",
      "       grad_fn=<MulBackward0>)\n",
      "tensor([[-4.3965e-01,  3.5830e-01,  3.6567e+00, -9.3452e-02],\n",
      "        [ 4.4431e-01, -4.2210e-01, -3.9933e-01,  1.5152e+01],\n",
      "        [-1.1844e-01, -1.4896e-02,  2.6658e+00,  4.1311e+00]],\n",
      "       grad_fn=<AddBackward0>)\n"
     ]
    }
   ],
   "source": [
    "#手动推导\n",
    "x = V(t.randn(3,4), requires_grad = True)\n",
    "y = f(x)\n",
    "dx = gradf(x)\n",
    "print(y)\n",
    "print(dx)"
   ]
  },
  {
   "cell_type": "code",
   "execution_count": 13,
   "metadata": {},
   "outputs": [
    {
     "name": "stdout",
     "output_type": "stream",
     "text": [
      "tensor([[-4.3965e-01,  3.5830e-01,  3.6567e+00, -9.3452e-02],\n",
      "        [ 4.4431e-01, -4.2210e-01, -3.9933e-01,  1.5152e+01],\n",
      "        [-1.1844e-01, -1.4896e-02,  2.6658e+00,  4.1311e+00]])\n"
     ]
    }
   ],
   "source": [
    "#autograd\n",
    "y.backward(t.ones(3, 4))\n",
    "print(x.grad)"
   ]
  },
  {
   "cell_type": "markdown",
   "metadata": {},
   "source": [
    "### 计算图(叶变量、根变量)"
   ]
  },
  {
   "cell_type": "code",
   "execution_count": 14,
   "metadata": {},
   "outputs": [],
   "source": [
    "x = V(t.ones(1))\n",
    "w = V(t.randn(1), requires_grad=True)\n",
    "b = V(t.randn(1), requires_grad=True)\n",
    "y = w * x # 等价于 w.mul(x)\n",
    "z = y + b "
   ]
  },
  {
   "cell_type": "code",
   "execution_count": 15,
   "metadata": {},
   "outputs": [
    {
     "data": {
      "text/plain": [
       "(False, True, True)"
      ]
     },
     "execution_count": 15,
     "metadata": {},
     "output_type": "execute_result"
    }
   ],
   "source": [
    "x.requires_grad, w.requires_grad, b.requires_grad"
   ]
  },
  {
   "cell_type": "code",
   "execution_count": 16,
   "metadata": {},
   "outputs": [
    {
     "data": {
      "text/plain": [
       "(True, True, True)"
      ]
     },
     "execution_count": 16,
     "metadata": {},
     "output_type": "execute_result"
    }
   ],
   "source": [
    "x.is_leaf, w.is_leaf, b.is_leaf"
   ]
  },
  {
   "cell_type": "code",
   "execution_count": 17,
   "metadata": {},
   "outputs": [
    {
     "data": {
      "text/plain": [
       "(True, True)"
      ]
     },
     "execution_count": 17,
     "metadata": {},
     "output_type": "execute_result"
    }
   ],
   "source": [
    "y.requires_grad, z.requires_grad"
   ]
  },
  {
   "cell_type": "code",
   "execution_count": 18,
   "metadata": {},
   "outputs": [
    {
     "data": {
      "text/plain": [
       "(False, False)"
      ]
     },
     "execution_count": 18,
     "metadata": {},
     "output_type": "execute_result"
    }
   ],
   "source": [
    "y.is_leaf, z.is_leaf"
   ]
  },
  {
   "cell_type": "code",
   "execution_count": 19,
   "metadata": {},
   "outputs": [
    {
     "data": {
      "text/plain": [
       "<AddBackward0 at 0x7f1040b04c88>"
      ]
     },
     "execution_count": 19,
     "metadata": {},
     "output_type": "execute_result"
    }
   ],
   "source": [
    "z.grad_fn"
   ]
  },
  {
   "cell_type": "code",
   "execution_count": 20,
   "metadata": {},
   "outputs": [
    {
     "data": {
      "text/plain": [
       "(True,\n",
       " True,\n",
       " True,\n",
       " tensor([1.], requires_grad=True),\n",
       " tensor([0.9698], grad_fn=<MulBackward0>),\n",
       " tensor([0.9698], requires_grad=True))"
      ]
     },
     "execution_count": 20,
     "metadata": {},
     "output_type": "execute_result"
    }
   ],
   "source": [
    "x = V(t.ones(1), requires_grad=True)\n",
    "w = V(t.rand(1), requires_grad=True)\n",
    "y = w * x\n",
    "z = y.sum()\n",
    "x.requires_grad, y.requires_grad, w.requires_grad, x, y, w"
   ]
  },
  {
   "cell_type": "code",
   "execution_count": 21,
   "metadata": {},
   "outputs": [
    {
     "data": {
      "text/plain": [
       "(None, None, None)"
      ]
     },
     "execution_count": 21,
     "metadata": {},
     "output_type": "execute_result"
    }
   ],
   "source": [
    "#z.backward()\n",
    "(x.grad, y.grad, w.grad)"
   ]
  },
  {
   "cell_type": "code",
   "execution_count": 22,
   "metadata": {},
   "outputs": [
    {
     "data": {
      "text/plain": [
       "(tensor([0.9698]), None, tensor([1.]))"
      ]
     },
     "execution_count": 22,
     "metadata": {},
     "output_type": "execute_result"
    }
   ],
   "source": [
    "#对比上方结果，与x,y,w\n",
    "z.backward()    #从z开始反向传播，也可以换y.backward(),从y开始反向传播\n",
    "(x.grad, y.grad, w.grad)"
   ]
  },
  {
   "cell_type": "code",
   "execution_count": 23,
   "metadata": {},
   "outputs": [
    {
     "name": "stdout",
     "output_type": "stream",
     "text": [
      "tensor([0.9074, 0.4474, 0.6749], requires_grad=True) tensor([0.9425, 0.9263, 0.1340], requires_grad=True)\n",
      "(tensor([1., 1., 1.]),)\n",
      "(tensor([0.9425, 0.9263, 0.1340]),)\n"
     ]
    }
   ],
   "source": [
    "x = V(t.rand(3), requires_grad=True)\n",
    "w = V(t.rand(3), requires_grad=True)\n",
    "y = w * x\n",
    "z = y.sum()\n",
    "print(x, w)\n",
    "print(t.autograd.grad(z, y)) #z对y的梯度\n",
    "print(t.autograd.grad(z, x)) #z对x的梯度"
   ]
  },
  {
   "cell_type": "code",
   "execution_count": null,
   "metadata": {},
   "outputs": [],
   "source": []
  }
 ],
 "metadata": {
  "kernelspec": {
   "display_name": "Python 3",
   "language": "python",
   "name": "python3"
  },
  "language_info": {
   "codemirror_mode": {
    "name": "ipython",
    "version": 3
   },
   "file_extension": ".py",
   "mimetype": "text/x-python",
   "name": "python",
   "nbconvert_exporter": "python",
   "pygments_lexer": "ipython3",
   "version": "3.7.1"
  }
 },
 "nbformat": 4,
 "nbformat_minor": 2
}
