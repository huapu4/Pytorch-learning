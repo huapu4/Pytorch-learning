{
 "cells": [
  {
   "cell_type": "markdown",
   "metadata": {},
   "source": [
    "# 步骤：\n",
    "    1.使用torchvision加载并预处理CIFAR-10数据集\n",
    "    2.定义网络、损失函数和优化器\n",
    "    3.训练网络并更新参数\n",
    "    4.测试\n",
    "    "
   ]
  },
  {
   "cell_type": "markdown",
   "metadata": {},
   "source": [
    "## 加载并预处理CIFAR-10数据集(利用GPU)"
   ]
  },
  {
   "cell_type": "code",
   "execution_count": 1,
   "metadata": {},
   "outputs": [
    {
     "name": "stdout",
     "output_type": "stream",
     "text": [
      "cuda:0\n"
     ]
    }
   ],
   "source": [
    "import torchvision as tv\n",
    "import torch as t\n",
    "import torchvision.transforms as transforms\n",
    "from torchvision.transforms import ToPILImage\n",
    "device = t.device(\"cuda:0\" if t.cuda.is_available() else \"cpu\")\n",
    "print(device)\n",
    "#把Tensor转成image，可视化操作\n",
    "show = ToPILImage()"
   ]
  },
  {
   "cell_type": "code",
   "execution_count": 2,
   "metadata": {},
   "outputs": [],
   "source": [
    "#定义对数据的预处理\n",
    "transform = transforms.Compose([transforms.ToTensor(),transforms.Normalize((0.5,0.5,0.5),(0.5,0.5,0.5))])\n",
    "\n",
    "#训练集\n",
    "trainset = tv.datasets.CIFAR10(root='./CIFAR10',\n",
    "                               train=True,\n",
    "                               download=False,\n",
    "                               transform=transform\n",
    "                              )\n",
    "\n",
    "trainloader = t.utils.data.DataLoader(trainset,\n",
    "                                      batch_size=4,\n",
    "                                      shuffle=True,\n",
    "                                      num_workers=2\n",
    "                                     )\n",
    "\n",
    "#测试集\n",
    "testset = tv.datasets.CIFAR10('./CIFAR10',\n",
    "                              train=False,\n",
    "                              download=False,\n",
    "                              transform=transform\n",
    "                            )\n",
    "testloader = t.utils.data.DataLoader(testset,\n",
    "                                     batch_size=4,\n",
    "                                     shuffle=True,\n",
    "                                     num_workers=2\n",
    "                                    )\n",
    "\n",
    "classes = ('plane', 'car', 'bird', 'cat', 'deer', 'dog', 'frog', 'horse', 'ship', 'truck')\n",
    "\n",
    "\n"
   ]
  },
  {
   "cell_type": "code",
   "execution_count": 3,
   "metadata": {},
   "outputs": [
    {
     "name": "stdout",
     "output_type": "stream",
     "text": [
      "ship\n"
     ]
    },
    {
     "data": {
      "image/png": "[encoded data removed]",
      "text/plain": [
       "<PIL.Image.Image image mode=RGB size=100x100 at 0x7F0740985AC8>"
      ]
     },
     "execution_count": 3,
     "metadata": {},
     "output_type": "execute_result"
    }
   ],
   "source": [
    "(data, label) = trainset[100]\n",
    "print(classes[label])\n",
    "show((data + 1) / 2).resize((100,100)) #还原被归一化的数据"
   ]
  },
  {
   "cell_type": "code",
   "execution_count": 4,
   "metadata": {},
   "outputs": [
    {
     "name": "stdout",
     "output_type": "stream",
     "text": [
      "    deer        ship       horse       horse\n"
     ]
    },
    {
     "data": {
      "image/png": "[encoded data removed]",
      "text/plain": [
       "<PIL.Image.Image image mode=RGB size=400x100 at 0x7F06C6B7A668>"
      ]
     },
     "execution_count": 4,
     "metadata": {},
     "output_type": "execute_result"
    }
   ],
   "source": [
    "dataiter = iter(trainloader)\n",
    "images, labels = dataiter.next()\n",
    "print('    '.join('%8s'%classes[labels[j]] for j in range(4)))\n",
    "show(tv.utils.make_grid((images + 1) / 2)).resize((400,100))"
   ]
  },
  {
   "cell_type": "code",
   "execution_count": 5,
   "metadata": {
    "scrolled": true
   },
   "outputs": [
    {
     "name": "stdout",
     "output_type": "stream",
     "text": [
      "     frog       deer      truck       frog\n"
     ]
    },
    {
     "data": {
      "text/plain": [
       "<Figure size 640x480 with 1 Axes>"
      ]
     },
     "metadata": {},
     "output_type": "display_data"
    }
   ],
   "source": [
    "#第二种呈现形式\n",
    "\n",
    "import numpy as np\n",
    "import matplotlib.pyplot as plt\n",
    "\n",
    "def imshow(img):\n",
    "    img = (img + 1) /2\n",
    "    npimg = img.numpy()\n",
    "    plt.imshow(np.transpose(npimg, (1, 2, 0)))\n",
    "    plt.show()\n",
    "    \n",
    "dataiter = iter(trainloader)\n",
    "images, labels = dataiter.next()\n",
    "print('  '.join('%9s'%classes[labels[j]] for j in range(4)))\n",
    "imshow(tv.utils.make_grid(images))"
   ]
  },
  {
   "cell_type": "markdown",
   "metadata": {},
   "source": [
    "## 定义网络、损失函数和优化器"
   ]
  },
  {
   "cell_type": "code",
   "execution_count": 6,
   "metadata": {},
   "outputs": [
    {
     "name": "stdout",
     "output_type": "stream",
     "text": [
      "Net(\n",
      "  (conv1): Conv2d(3, 6, kernel_size=(5, 5), stride=(1, 1))\n",
      "  (conv2): Conv2d(6, 16, kernel_size=(5, 5), stride=(1, 1))\n",
      "  (fc1): Linear(in_features=400, out_features=120, bias=True)\n",
      "  (fc2): Linear(in_features=120, out_features=60, bias=True)\n",
      "  (fc3): Linear(in_features=60, out_features=10, bias=True)\n",
      ")\n"
     ]
    }
   ],
   "source": [
    "#定义网络\n",
    "\n",
    "import torch.nn as nn\n",
    "import torch.nn.functional as F\n",
    "\n",
    "class Net(nn.Module):\n",
    "    def __init__(self):\n",
    "        super(Net, self).__init__()\n",
    "        self.conv1 = nn.Conv2d(3, 6, 5)\n",
    "        self.conv2 = nn.Conv2d(6, 16, 5)\n",
    "        self.fc1 = nn.Linear(16*5*5, 120)\n",
    "        self.fc2 = nn.Linear(120, 60)\n",
    "        self.fc3 = nn.Linear(60, 10)\n",
    "        \n",
    "    def forward(self, x):\n",
    "        x = F.max_pool2d(F.relu(self.conv1(x)), (2,2))\n",
    "        x = F.max_pool2d(F.relu(self.conv2(x)), 2)\n",
    "        #x = x.view(x.size()[0], -1)    #等价于下式\n",
    "        x = x.view(-1, 16 * 5 * 5)\n",
    "        x = F.relu(self.fc1(x))\n",
    "        x = F.relu(self.fc2(x))\n",
    "        x = F.relu(self.fc3(x))\n",
    "        return x\n",
    "net = Net()\n",
    "net = net.to(device)\n",
    "print (net)\n",
    "        "
   ]
  },
  {
   "cell_type": "code",
   "execution_count": 7,
   "metadata": {},
   "outputs": [],
   "source": [
    "#损失函数、优化器\n",
    "\n",
    "from torch import optim\n",
    "criterion = nn.CrossEntropyLoss()\n",
    "optimizer = optim.SGD(net.parameters(), lr=0.001, momentum=0.9)"
   ]
  },
  {
   "cell_type": "markdown",
   "metadata": {},
   "source": [
    "# 训练网络"
   ]
  },
  {
   "cell_type": "code",
   "execution_count": 8,
   "metadata": {},
   "outputs": [
    {
     "name": "stdout",
     "output_type": "stream",
     "text": [
      "[1, 2000] loss:2.267\n",
      "[1, 4000] loss:2.126\n",
      "[1, 6000] loss:2.052\n",
      "[1, 8000] loss:1.964\n",
      "[1, 10000] loss:1.703\n",
      "[1, 12000] loss:1.598\n",
      "[2, 2000] loss:1.514\n",
      "[2, 4000] loss:1.457\n",
      "[2, 6000] loss:1.430\n",
      "[2, 8000] loss:1.404\n",
      "[2, 10000] loss:1.378\n",
      "[2, 12000] loss:1.350\n",
      "[3, 2000] loss:1.294\n",
      "[3, 4000] loss:1.282\n",
      "[3, 6000] loss:1.241\n",
      "[3, 8000] loss:1.247\n",
      "[3, 10000] loss:1.208\n",
      "[3, 12000] loss:1.230\n",
      "[4, 2000] loss:1.136\n",
      "[4, 4000] loss:1.154\n",
      "[4, 6000] loss:1.139\n",
      "[4, 8000] loss:1.127\n",
      "[4, 10000] loss:1.143\n",
      "[4, 12000] loss:1.136\n",
      "[5, 2000] loss:1.053\n",
      "[5, 4000] loss:1.060\n",
      "[5, 6000] loss:1.067\n",
      "[5, 8000] loss:1.080\n",
      "[5, 10000] loss:1.073\n",
      "[5, 12000] loss:1.060\n",
      "[6, 2000] loss:0.985\n",
      "[6, 4000] loss:1.020\n",
      "[6, 6000] loss:1.013\n",
      "[6, 8000] loss:0.999\n",
      "[6, 10000] loss:0.989\n",
      "[6, 12000] loss:1.012\n",
      "[7, 2000] loss:0.933\n",
      "[7, 4000] loss:0.954\n",
      "[7, 6000] loss:0.960\n",
      "[7, 8000] loss:0.948\n",
      "[7, 10000] loss:0.977\n",
      "[7, 12000] loss:0.968\n",
      "[8, 2000] loss:0.857\n",
      "[8, 4000] loss:0.926\n",
      "[8, 6000] loss:0.918\n",
      "[8, 8000] loss:0.935\n",
      "[8, 10000] loss:0.915\n",
      "[8, 12000] loss:0.935\n",
      "[9, 2000] loss:0.831\n",
      "[9, 4000] loss:0.852\n",
      "[9, 6000] loss:0.882\n",
      "[9, 8000] loss:0.911\n",
      "[9, 10000] loss:0.897\n",
      "[9, 12000] loss:0.932\n",
      "[10, 2000] loss:0.807\n",
      "[10, 4000] loss:0.817\n",
      "[10, 6000] loss:0.843\n",
      "[10, 8000] loss:0.862\n",
      "[10, 10000] loss:0.864\n",
      "[10, 12000] loss:0.890\n",
      "Finished Training\n"
     ]
    }
   ],
   "source": [
    "for epoch in range(5):\n",
    "    \n",
    "    running_loss = 0.0\n",
    "    for i ,data in enumerate(trainloader, 0):\n",
    "        #输入数据\n",
    "        inputs, labels = data\n",
    "        inputs, labels = inputs.to(device), labels.to(device)\n",
    "        #梯度清零\n",
    "        optimizer.zero_grad()\n",
    "        \n",
    "        #forward + backward + optimize\n",
    "        outputs = net(inputs)\n",
    "        loss = criterion(outputs, labels)\n",
    "        loss.backward()\n",
    "        optimizer.step()\n",
    "        \n",
    "        #打印log信息\n",
    "        running_loss += loss.item()\n",
    "        #每2000个batch打印一次训练状态\n",
    "        if i % 2000 == 1999:\n",
    "            print('[%d, %4d] loss:%.3f'%(epoch+1, i+1, running_loss/2000))\n",
    "            running_loss = 0.0\n",
    "print('Finished Training')\n",
    "    "
   ]
  },
  {
   "cell_type": "code",
   "execution_count": 9,
   "metadata": {
    "scrolled": true
   },
   "outputs": [
    {
     "name": "stdout",
     "output_type": "stream",
     "text": [
      "实际的label\n",
      "    deer        ship        ship         dog\n"
     ]
    },
    {
     "data": {
      "image/png": "[encoded data removed]",
      "text/plain": [
       "<PIL.Image.Image image mode=RGB size=400x100 at 0x7F06C6B915C0>"
      ]
     },
     "execution_count": 9,
     "metadata": {},
     "output_type": "execute_result"
    }
   ],
   "source": [
    "dateiter = iter(testloader)\n",
    "images, labels = dateiter.next()\n",
    "images ,labels = images.to(device), labels.to(device)\n",
    "print('实际的label')\n",
    "print('    '.join('%8s'%classes[labels[j]] for j in range(4)))\n",
    "show(tv.utils.make_grid((images.data.cpu()+1)/2)).resize((400,100))"
   ]
  },
  {
   "cell_type": "code",
   "execution_count": 10,
   "metadata": {},
   "outputs": [
    {
     "name": "stdout",
     "output_type": "stream",
     "text": [
      "预测结果:  bird  ship   car   cat\n"
     ]
    }
   ],
   "source": [
    "#计算图片在每个类别上的分数\n",
    "outputs = net(images)\n",
    "#########outputs = output.to(device)\n",
    "\n",
    "#得分最高的那个类\n",
    "_, precdicted = t.max(outputs, 1)\n",
    "print('预测结果:',' '.join('%5s' %classes[precdicted[j]] for j in range(4)))"
   ]
  },
  {
   "cell_type": "code",
   "execution_count": 11,
   "metadata": {},
   "outputs": [
    {
     "name": "stdout",
     "output_type": "stream",
     "text": [
      "10000张测试集中的准确率为： 55%\n"
     ]
    }
   ],
   "source": [
    "#计算整体准确率\n",
    "correct = 0 \n",
    "total = 0\n",
    "for data in testloader:\n",
    "    images, labels = data\n",
    "    images, labels = images.to(device), labels.to(device)\n",
    "    outputs = net(images)\n",
    "    _, precdicted = t.max(outputs, 1)\n",
    "    total += labels.data[0]\n",
    "    correct += (precdicted == labels).sum()\n",
    "    \n",
    "print('10000张测试集中的准确率为： %d%%'%(100 * correct / total))"
   ]
  },
  {
   "cell_type": "code",
   "execution_count": 22,
   "metadata": {},
   "outputs": [
    {
     "name": "stdout",
     "output_type": "stream",
     "text": [
      "plane 的准确率为：69 %\n",
      "  car 的准确率为：75 %\n",
      " bird 的准确率为：41 %\n",
      "  cat 的准确率为：56 %\n",
      " deer 的准确率为：60 %\n",
      "  dog 的准确率为：43 %\n",
      " frog 的准确率为：69 %\n",
      "horse 的准确率为：68 %\n",
      " ship 的准确率为：76 %\n",
      "truck 的准确率为：66 %\n"
     ]
    }
   ],
   "source": [
    "#计算各个类别准确率\n",
    "class_correct = list(0. for i in range(10))\n",
    "class_total = list(0. for i in range(10))\n",
    "with t.no_grad():\n",
    "    for data in testloader:\n",
    "        images, labels = data\n",
    "        images, labels = images.to(device), labels.to(device)\n",
    "        outputs = net(images)\n",
    "        _, predicted = t.max(outputs, 1)\n",
    "        c = (predicted == labels).squeeze()\n",
    "        for i in range(4):\n",
    "            label = labels[i]\n",
    "            class_correct[label] += c[i].item()\n",
    "            class_total[label] += 1\n",
    "            \n",
    "for i in range(10):\n",
    "    print('%5s 的准确率为：%2d %%'%((classes[i]), 100*class_correct[i]/class_total[i]))"
   ]
  },
  {
   "cell_type": "markdown",
   "metadata": {},
   "source": []
  },
  {
   "cell_type": "code",
   "execution_count": null,
   "metadata": {},
   "outputs": [],
   "source": []
  }
 ],
 "metadata": {
  "kernelspec": {
   "display_name": "Python 3",
   "language": "python",
   "name": "python3"
  },
  "language_info": {
   "codemirror_mode": {
    "name": "ipython",
    "version": 3
   },
   "file_extension": ".py",
   "mimetype": "text/x-python",
   "name": "python",
   "nbconvert_exporter": "python",
   "pygments_lexer": "ipython3",
   "version": "3.7.1"
  }
 },
 "nbformat": 4,
 "nbformat_minor": 2
}
