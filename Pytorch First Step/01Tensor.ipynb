{
 "cells": [
  {
   "cell_type": "code",
   "execution_count": 1,
   "metadata": {
    "scrolled": true
   },
   "outputs": [
    {
     "data": {
      "text/plain": [
       "tensor([[-1.2557e-02,  4.5866e-41, -1.2557e-02],\n",
       "        [ 4.5866e-41, -1.6606e-02,  4.5866e-41],\n",
       "        [ 3.9970e+00,  4.5866e-41, -1.7964e-07],\n",
       "        [ 4.5866e-41,  5.5388e-14,  2.5614e+21],\n",
       "        [ 7.7146e+31,  1.8057e+28,  7.7574e-40]])"
      ]
     },
     "execution_count": 1,
     "metadata": {},
     "output_type": "execute_result"
    }
   ],
   "source": [
    "from __future__ import print_function\n",
    "import torch as t\n",
    "import numpy as np\n",
    "#指定形状\n",
    "x = t.Tensor(5, 3)\n",
    "x"
   ]
  },
  {
   "cell_type": "code",
   "execution_count": 2,
   "metadata": {},
   "outputs": [
    {
     "data": {
      "text/plain": [
       "tensor([[0.6886, 0.4735, 0.9999],\n",
       "        [0.7025, 0.3589, 0.2468],\n",
       "        [0.3373, 0.9022, 0.3055],\n",
       "        [0.7220, 0.9194, 0.0708],\n",
       "        [0.6658, 0.0482, 0.3572]])"
      ]
     },
     "execution_count": 2,
     "metadata": {},
     "output_type": "execute_result"
    }
   ],
   "source": [
    "#使用[0,1]均匀分布随机初始化二维数组\n",
    "x = t.rand(5, 3)\n",
    "y = t.rand(5, 3)\n",
    "x"
   ]
  },
  {
   "cell_type": "code",
   "execution_count": 3,
   "metadata": {},
   "outputs": [
    {
     "name": "stdout",
     "output_type": "stream",
     "text": [
      "torch.Size([5, 3])\n"
     ]
    },
    {
     "data": {
      "text/plain": [
       "5"
      ]
     },
     "execution_count": 3,
     "metadata": {},
     "output_type": "execute_result"
    }
   ],
   "source": [
    "#查看x形状\n",
    "print(x.size())\n",
    "\n",
    "#查看列个数,方法1\n",
    "#方法1\n",
    "x.size()[0]\n",
    "\n",
    "#方法2\n",
    "x.size(0)\n"
   ]
  },
  {
   "cell_type": "code",
   "execution_count": 4,
   "metadata": {},
   "outputs": [
    {
     "data": {
      "text/plain": [
       "tensor([[0.9124, 0.9196, 1.8272],\n",
       "        [1.6191, 0.4689, 0.3455],\n",
       "        [1.1317, 0.9565, 1.2894],\n",
       "        [1.4088, 1.6295, 1.0270],\n",
       "        [1.4604, 0.9562, 0.9437]])"
      ]
     },
     "execution_count": 4,
     "metadata": {},
     "output_type": "execute_result"
    }
   ],
   "source": [
    "x + y         #1\n",
    "t.add(x, y)   #2\n",
    "result = t.Tensor(5, 3)    #3 \n",
    "t.add(x, y, out=result)\n",
    "result"
   ]
  },
  {
   "cell_type": "code",
   "execution_count": 5,
   "metadata": {},
   "outputs": [
    {
     "name": "stdout",
     "output_type": "stream",
     "text": [
      "最初的y\n",
      "tensor([[0.2238, 0.4461, 0.8273],\n",
      "        [0.9166, 0.1100, 0.0987],\n",
      "        [0.7945, 0.0542, 0.9839],\n",
      "        [0.6868, 0.7101, 0.9562],\n",
      "        [0.7946, 0.9080, 0.5865]])\n",
      "第一种加法结果\n",
      "tensor([[0.2238, 0.4461, 0.8273],\n",
      "        [0.9166, 0.1100, 0.0987],\n",
      "        [0.7945, 0.0542, 0.9839],\n",
      "        [0.6868, 0.7101, 0.9562],\n",
      "        [0.7946, 0.9080, 0.5865]])\n",
      "第二种加法结果\n",
      "tensor([[0.9124, 0.9196, 1.8272],\n",
      "        [1.6191, 0.4689, 0.3455],\n",
      "        [1.1317, 0.9565, 1.2894],\n",
      "        [1.4088, 1.6295, 1.0270],\n",
      "        [1.4604, 0.9562, 0.9437]])\n"
     ]
    }
   ],
   "source": [
    "print ('最初的y')\n",
    "print (y)\n",
    "\n",
    "print('第一种加法结果')\n",
    "y.add(x)  #普通加法，不改变y的值\n",
    "print (y)\n",
    "\n",
    "print('第二种加法结果')\n",
    "y.add_(x)  #inplace 加法，改变y的值\n",
    "print (y)"
   ]
  },
  {
   "cell_type": "code",
   "execution_count": 6,
   "metadata": {},
   "outputs": [
    {
     "name": "stdout",
     "output_type": "stream",
     "text": [
      "tensor([[0.6886, 0.4735, 0.9999],\n",
      "        [0.7025, 0.3589, 0.2468],\n",
      "        [0.3373, 0.9022, 0.3055],\n",
      "        [0.7220, 0.9194, 0.0708],\n",
      "        [0.6658, 0.0482, 0.3572]])\n"
     ]
    },
    {
     "data": {
      "text/plain": [
       "tensor([0.4735, 0.3589, 0.9022, 0.9194, 0.0482])"
      ]
     },
     "execution_count": 6,
     "metadata": {},
     "output_type": "execute_result"
    }
   ],
   "source": [
    "print(x)\n",
    "x[:,1]"
   ]
  },
  {
   "cell_type": "code",
   "execution_count": 7,
   "metadata": {},
   "outputs": [
    {
     "data": {
      "text/plain": [
       "(tensor([1., 1., 1., 1., 1.]), array([1., 1., 1., 1., 1.], dtype=float32))"
      ]
     },
     "execution_count": 7,
     "metadata": {},
     "output_type": "execute_result"
    }
   ],
   "source": [
    "a = t.ones(5)\n",
    "b = a.numpy()   #Tensor ==> numpy\n",
    "a, b"
   ]
  },
  {
   "cell_type": "code",
   "execution_count": 8,
   "metadata": {},
   "outputs": [
    {
     "data": {
      "text/plain": [
       "(array([1., 1., 1., 1., 1.]),\n",
       " tensor([1., 1., 1., 1., 1.], dtype=torch.float64))"
      ]
     },
     "execution_count": 8,
     "metadata": {},
     "output_type": "execute_result"
    }
   ],
   "source": [
    "a = np.ones(5)\n",
    "b = t.from_numpy(a)\n",
    "a, b"
   ]
  },
  {
   "cell_type": "code",
   "execution_count": 9,
   "metadata": {},
   "outputs": [
    {
     "data": {
      "text/plain": [
       "(array([2., 2., 2., 2., 2.]),\n",
       " tensor([2., 2., 2., 2., 2.], dtype=torch.float64))"
      ]
     },
     "execution_count": 9,
     "metadata": {},
     "output_type": "execute_result"
    }
   ],
   "source": [
    "b.add_(1)\n",
    "a, b"
   ]
  },
  {
   "cell_type": "code",
   "execution_count": 10,
   "metadata": {},
   "outputs": [
    {
     "data": {
      "text/plain": [
       "tensor([[1.6010, 1.3931, 2.8271],\n",
       "        [2.3216, 0.8278, 0.5924],\n",
       "        [1.4690, 1.8587, 1.5950],\n",
       "        [2.1308, 2.5488, 1.0978],\n",
       "        [2.1262, 1.0045, 1.3009]], device='cuda:0')"
      ]
     },
     "execution_count": 10,
     "metadata": {},
     "output_type": "execute_result"
    }
   ],
   "source": [
    "if t.cuda.is_available():\n",
    "    x = x.cuda()\n",
    "    y = y.cuda()\n",
    "    z = x + y\n",
    "z"
   ]
  },
  {
   "cell_type": "code",
   "execution_count": 11,
   "metadata": {},
   "outputs": [
    {
     "data": {
      "text/plain": [
       "tensor([[1., 2., 3.],\n",
       "        [4., 5., 6.]])"
      ]
     },
     "execution_count": 11,
     "metadata": {},
     "output_type": "execute_result"
    }
   ],
   "source": [
    "#用list的数据创建\n",
    "a = t.Tensor([[1, 2, 3],[4, 5, 6]])\n",
    "a"
   ]
  },
  {
   "cell_type": "code",
   "execution_count": 12,
   "metadata": {},
   "outputs": [
    {
     "data": {
      "text/plain": [
       "[[1.0, 2.0, 3.0], [4.0, 5.0, 6.0]]"
      ]
     },
     "execution_count": 12,
     "metadata": {},
     "output_type": "execute_result"
    }
   ],
   "source": [
    "#把tensor转为list\n",
    "a.tolist()"
   ]
  },
  {
   "cell_type": "code",
   "execution_count": 13,
   "metadata": {},
   "outputs": [
    {
     "data": {
      "text/plain": [
       "6"
      ]
     },
     "execution_count": 13,
     "metadata": {},
     "output_type": "execute_result"
    }
   ],
   "source": [
    "#返回元素个数,等价a.nelement()\n",
    "a.numel()"
   ]
  },
  {
   "cell_type": "code",
   "execution_count": 14,
   "metadata": {},
   "outputs": [
    {
     "data": {
      "text/plain": [
       "torch.Size([2, 3])"
      ]
     },
     "execution_count": 14,
     "metadata": {},
     "output_type": "execute_result"
    }
   ],
   "source": [
    "a.size()"
   ]
  },
  {
   "cell_type": "code",
   "execution_count": 15,
   "metadata": {},
   "outputs": [
    {
     "name": "stdout",
     "output_type": "stream",
     "text": [
      "tensor([[-1.2557e-02,  4.5866e-41,  4.1709e-35],\n",
      "        [ 3.0620e-41,  4.4842e-44,  0.0000e+00]])\n",
      "tensor([2., 3.])\n",
      "tensor([[-1.2557e-02,  4.5866e-41, -6.5966e+07],\n",
      "        [ 3.0618e-41,  4.4842e-44,  0.0000e+00]])\n"
     ]
    }
   ],
   "source": [
    "#形状对比\n",
    "b = t.Tensor(a.size())\n",
    "c = t.Tensor([2, 3])\n",
    "d = t.Tensor(t.Size([2, 3]))\n",
    "print(b)\n",
    "print(c)\n",
    "print(d)"
   ]
  },
  {
   "cell_type": "code",
   "execution_count": 16,
   "metadata": {},
   "outputs": [
    {
     "name": "stdout",
     "output_type": "stream",
     "text": [
      "tensor([[1., 1., 1., 1., 1.],\n",
      "        [1., 1., 1., 1., 1.],\n",
      "        [1., 1., 1., 1., 1.]])\n",
      "tensor([[0., 0., 0., 0.],\n",
      "        [0., 0., 0., 0.]])\n",
      "tensor([ 1., 10.])\n",
      "tensor([1, 3, 5, 7, 9])\n",
      "tensor([[-0.4039, -0.6068,  0.0085],\n",
      "        [-0.3548,  0.8186,  1.5256],\n",
      "        [-0.6916, -0.9132, -0.9615]])\n",
      "tensor([[1., 0., 0.],\n",
      "        [0., 1., 0.],\n",
      "        [0., 0., 1.]])\n",
      "tensor([[1., 0., 0., 0.],\n",
      "        [0., 1., 0., 0.],\n",
      "        [0., 0., 1., 0.]])\n"
     ]
    }
   ],
   "source": [
    "a = t.ones(3, 5)\n",
    "b = t.zeros(2, 4)\n",
    "c = t.linspace(1, 10 ,2)\n",
    "d = t.arange(1, 10, 2)\n",
    "e = t.randn(3, 3)\n",
    "f = t.eye(3, 3)\n",
    "g = t.eye(3, 4)\n",
    "print(a)\n",
    "print(b)\n",
    "print(c)\n",
    "print(d)\n",
    "print(e)\n",
    "print(f)\n",
    "print(g)"
   ]
  },
  {
   "cell_type": "code",
   "execution_count": 17,
   "metadata": {},
   "outputs": [
    {
     "name": "stdout",
     "output_type": "stream",
     "text": [
      "tensor([0, 1, 2, 3, 4, 5])\n",
      "torch.Size([2, 3])\n",
      "tensor([[0, 1, 2],\n",
      "        [3, 4, 5]])\n"
     ]
    }
   ],
   "source": [
    "#tensor.view可以调整tensor的形状\n",
    "a = t.arange(0, 6)\n",
    "print(a)\n",
    "print(a.view(2, 3).size())   #等价与reshape()、resize()\n",
    "\n",
    "b = a.view(-1, 3)\n",
    "print(b)"
   ]
  },
  {
   "cell_type": "code",
   "execution_count": 18,
   "metadata": {},
   "outputs": [
    {
     "name": "stdout",
     "output_type": "stream",
     "text": [
      "tensor([[0, 1, 2],\n",
      "        [3, 4, 5]])\n",
      "torch.Size([2, 3])\n",
      "torch.Size([2, 1, 3])\n"
     ]
    }
   ],
   "source": [
    "#unsqueeze\n",
    "print(b)\n",
    "print(b.size())\n",
    "print(b.unsqueeze(1).size())"
   ]
  },
  {
   "cell_type": "code",
   "execution_count": 19,
   "metadata": {},
   "outputs": [
    {
     "name": "stdout",
     "output_type": "stream",
     "text": [
      "tensor([[[[[0, 1, 2]]]],\n",
      "\n",
      "\n",
      "\n",
      "        [[[[3, 4, 5]]]]])\n",
      "torch.Size([2, 1, 1, 3])\n",
      "torch.Size([2, 3])\n"
     ]
    }
   ],
   "source": [
    "#squeeze,压缩所有1维\n",
    "c = b.view(2, 1, 1, 1, 3)\n",
    "print(c)\n",
    "print(c.squeeze(1).size())\n",
    "print(c.squeeze().size())"
   ]
  },
  {
   "cell_type": "code",
   "execution_count": 20,
   "metadata": {},
   "outputs": [
    {
     "data": {
      "text/plain": [
       "tensor([[             0,              1,              2,              3],\n",
       "        [            10,             10,             10,             10],\n",
       "        [             8,              9,             10,             11],\n",
       "        [93848498348360, 93848498348360, 93848498348400,              1]])"
      ]
     },
     "execution_count": 20,
     "metadata": {},
     "output_type": "execute_result"
    }
   ],
   "source": [
    "re = t.arange(0, 12)\n",
    "re = re.view(3, 4)\n",
    "re[1] = 10\n",
    "re.resize_(4, 4)   #自动分配空间\n",
    "re"
   ]
  },
  {
   "cell_type": "markdown",
   "metadata": {},
   "source": [
    "## 索引"
   ]
  },
  {
   "cell_type": "code",
   "execution_count": 22,
   "metadata": {},
   "outputs": [
    {
     "name": "stdout",
     "output_type": "stream",
     "text": [
      "tensor([[ 0.0625, -2.7976, -0.1221, -1.7186],\n",
      "        [ 0.8997,  0.5776,  0.0117,  0.7595],\n",
      "        [ 0.2842, -0.3333, -1.3502,  0.8680]])\n",
      "tensor([ 0.0625, -2.7976, -0.1221, -1.7186])\n",
      "tensor([0.0625, 0.8997, 0.2842])\n",
      "tensor(-0.1221)\n",
      "tensor([[ 0.0625, -2.7976, -0.1221, -1.7186],\n",
      "        [ 0.8997,  0.5776,  0.0117,  0.7595]])\n",
      "tensor([[-0.1221, -1.7186],\n",
      "        [ 0.0117,  0.7595]])\n",
      "tensor([[0, 0, 0, 0],\n",
      "        [0, 0, 0, 0],\n",
      "        [0, 0, 0, 0]], dtype=torch.uint8)\n"
     ]
    }
   ],
   "source": [
    "a = t.randn(3, 4)\n",
    "print(a)\n",
    "print(a[0])    #第0行\n",
    "print(a[:, 0])    #第0列\n",
    "print(a[(0, 2)])  #等价于   a[0][2] \n",
    "print(a[:2])    #前两行\n",
    "print(a[:2, 2:])     #前两行后两列\n",
    "print(a>1)     #返回真假"
   ]
  },
  {
   "cell_type": "code",
   "execution_count": 23,
   "metadata": {},
   "outputs": [
    {
     "data": {
      "text/plain": [
       "(tensor([ 0.,  1.,  2.,  3.,  4.,  5.,  6.,  7.,  8.,  9., 10., 11.]),\n",
       " tensor([0., 1., 3.]),\n",
       " tensor([[ 0.,  1.,  2.,  3.],\n",
       "         [ 4.,  5.,  6.,  7.],\n",
       "         [ 8.,  9., 10., 11.]]),\n",
       " tensor([[ 0.,  1.,  3.],\n",
       "         [ 4.,  5.,  7.],\n",
       "         [ 8.,  9., 11.]]))"
      ]
     },
     "execution_count": 23,
     "metadata": {},
     "output_type": "execute_result"
    }
   ],
   "source": [
    "a = t.linspace(0, 11, 12)\n",
    "a1 = a.view(3, 4)\n",
    "indices = t.LongTensor([0, 1, 3])\n",
    "b = t.index_select(a, 0, indices)\n",
    "b1 = t.index_select(a1, 1, indices)\n",
    "a, b, a1, b1"
   ]
  },
  {
   "cell_type": "code",
   "execution_count": 24,
   "metadata": {},
   "outputs": [
    {
     "data": {
      "text/plain": [
       "(tensor([ 0.,  1.,  2.,  3.,  4.,  5.,  6.,  7.,  8.,  9., 10., 11.]),\n",
       " tensor([[ 0.,  1.,  2.,  3.],\n",
       "         [ 4.,  5.,  6.,  7.],\n",
       "         [ 8.,  9., 10., 11.]]),\n",
       " tensor([ 7.,  8.,  9., 10., 11.]),\n",
       " tensor([ 7.,  8.,  9., 10., 11.]))"
      ]
     },
     "execution_count": 24,
     "metadata": {},
     "output_type": "execute_result"
    }
   ],
   "source": [
    "a = t.linspace(0, 11, 12)\n",
    "b = a.view(3, 4)\n",
    "c = t.masked_select(a, a>6)\n",
    "d = t.masked_select(b, b>6)\n",
    "a, b, c, d"
   ]
  },
  {
   "cell_type": "code",
   "execution_count": 25,
   "metadata": {},
   "outputs": [
    {
     "name": "stdout",
     "output_type": "stream",
     "text": [
      "tensor([[0, 0, 0, 0],\n",
      "        [0, 1, 0, 1],\n",
      "        [1, 0, 1, 0]], dtype=torch.uint8)\n",
      "tensor([[1, 1],\n",
      "        [1, 3],\n",
      "        [2, 0],\n",
      "        [2, 2]])\n"
     ]
    }
   ],
   "source": [
    "a = t.randn(3, 4)\n",
    "b = a>1\n",
    "print(b)\n",
    "c = t.nonzero(b)\n",
    "print(c)"
   ]
  },
  {
   "cell_type": "code",
   "execution_count": 26,
   "metadata": {},
   "outputs": [
    {
     "ename": "SyntaxError",
     "evalue": "invalid syntax (<ipython-input-26-abd33d05258a>, line 5)",
     "output_type": "error",
     "traceback": [
      "\u001b[0;36m  File \u001b[0;32m\"<ipython-input-26-abd33d05258a>\"\u001b[0;36m, line \u001b[0;32m5\u001b[0m\n\u001b[0;31m    9print(a)\u001b[0m\n\u001b[0m         ^\u001b[0m\n\u001b[0;31mSyntaxError\u001b[0m\u001b[0;31m:\u001b[0m invalid syntax\n"
     ]
    }
   ],
   "source": [
    "a = t.arange(0, 16).view(4, 4)\n",
    "index = t.LongTensor([[0, 1, 2, 3],[1, 1, 1, 1]])\n",
    "b = t.gather(a, 0, index)\n",
    "c = t.gather(a, 1, index.t())\n",
    "9print(a)\n",
    "print(b)\n",
    "print(c)"
   ]
  },
  {
   "cell_type": "code",
   "execution_count": 27,
   "metadata": {},
   "outputs": [
    {
     "name": "stdout",
     "output_type": "stream",
     "text": [
      "tensor([[[ 0,  1,  2],\n",
      "         [ 3,  4,  5],\n",
      "         [ 6,  7,  8]],\n",
      "\n",
      "        [[ 9, 10, 11],\n",
      "         [12, 13, 14],\n",
      "         [15, 16, 17]],\n",
      "\n",
      "        [[18, 19, 20],\n",
      "         [21, 22, 23],\n",
      "         [24, 25, 26]]])\n",
      "tensor([[15, 16, 17],\n",
      "        [15, 16, 17],\n",
      "        [18, 19, 20]])\n",
      "tensor([14, 24])\n"
     ]
    }
   ],
   "source": [
    "a = t.arange(0,27).view(3,3,3)\n",
    "print(a)\n",
    "print(a[[1, 1, 2],[2, 2, 0]])\n",
    "print(a[[1, 2], [1, 2], [2, 0]])"
   ]
  },
  {
   "cell_type": "code",
   "execution_count": null,
   "metadata": {},
   "outputs": [],
   "source": []
  },
  {
   "cell_type": "markdown",
   "metadata": {},
   "source": [
    "## 常见的逐元素操作\n",
    "#### abs/sqrt/div/exp/fmod/log/pow                  绝对值/平方根/除法/指数/求余/求幂\n",
    "#### cos/sin/asin/atan2/cosh                                  三角函数\n",
    "#### ceil/round/floor/trunc                                      上取整/四舍五入/下取整/只保留/整数部分\n",
    "#### clamp(input,min,max)                                   超过min和max部分截断\n",
    "#### sigmoid/tanh                                                    激活函数\n",
    "\n",
    "## 常见的归并操作\n",
    "#### mean/sum/median/mode  均值/和/中位数/众数\n",
    "#### norm/dist 范数/距离\n",
    "#### std/var 标准差/方差\n",
    "#### cumsum/cumprod 累加/累乘"
   ]
  },
  {
   "cell_type": "code",
   "execution_count": 28,
   "metadata": {},
   "outputs": [
    {
     "name": "stdout",
     "output_type": "stream",
     "text": [
      "tensor([[ 0.9662, -0.1790,  0.9489],\n",
      "        [ 0.5241,  0.5033,  0.1949]])\n",
      "tensor([[0.9662, 0.1790, 0.9489],\n",
      "        [0.5241, 0.5033, 0.1949]])\n",
      "tensor([[0.9830, 0.4231, 0.9741],\n",
      "        [0.7240, 0.7094, 0.4415]])\n",
      "tensor([[0.4915, 0.2115, 0.4871],\n",
      "        [0.3620, 0.3547, 0.2207]])\n",
      "tensor([[2.6724, 1.5266, 2.6489],\n",
      "        [2.0626, 2.0328, 1.5550]])\n",
      "tensor([0, 1, 2, 3, 0, 1])\n",
      "tensor([[0.9830, 0.4231, 0.9741],\n",
      "        [0.7240, 0.7094, 0.4415]])\n",
      "tensor([0, 1, 4, 9, 0, 1])\n"
     ]
    }
   ],
   "source": [
    "# abs/sqrt/div/exp/fmod/log/pow                      \n",
    "# 绝对值/平方根/除法/指数/求余/求对数/求幂\n",
    "a = t.randn(6).view(2,3)\n",
    "b = t.abs(a)\n",
    "c = t.sqrt(b)\n",
    "d = t.div(c, 2)\n",
    "e = t.exp(c)\n",
    "f = t.arange(6)\n",
    "f = t.fmod(f, 4)\n",
    "g = t.log(e)\n",
    "h = t.pow(f, 2)\n",
    "print(a)\n",
    "print(b)\n",
    "print(c)\n",
    "print(d)\n",
    "print(e)\n",
    "print(f)\n",
    "print(g)\n",
    "print(h)"
   ]
  },
  {
   "cell_type": "code",
   "execution_count": 29,
   "metadata": {},
   "outputs": [
    {
     "name": "stdout",
     "output_type": "stream",
     "text": [
      "tensor([[ 0.1978, -0.5336, -1.9978],\n",
      "        [ 0.7277,  2.1877, -0.0506]])\n",
      "tensor([[ 0.9805,  0.8610, -0.4142],\n",
      "        [ 0.7467, -0.5785,  0.9987]])\n",
      "tensor([[ 0.1965, -0.5086, -0.9102],\n",
      "        [ 0.6652,  0.8156, -0.0506]])\n",
      "tensor([[ 0.1991, -0.5629,     nan],\n",
      "        [ 0.8150,     nan, -0.0506]])\n",
      "tensor([[ 0.1952, -0.4902, -1.1067],\n",
      "        [ 0.6291,  1.1421, -0.0506]])\n"
     ]
    }
   ],
   "source": [
    "# cos/sin/asin/atan2/cosh                                 \n",
    "# 三角函数\n",
    "a = t.randn(2,3)\n",
    "b = t.cos(a)\n",
    "c = t.sin(a)\n",
    "d = t.asin(a)\n",
    "e = t.atan(a)\n",
    "\n",
    "\n",
    "print(a)\n",
    "print(b)\n",
    "print(c)\n",
    "print(d)\n",
    "print(e)"
   ]
  },
  {
   "cell_type": "code",
   "execution_count": 36,
   "metadata": {},
   "outputs": [
    {
     "name": "stdout",
     "output_type": "stream",
     "text": [
      "[[1. 1. 1.]\n",
      " [1. 1. 1.]]\n",
      "tensor([[1., 1., 1.],\n",
      "        [1., 1., 1.]])\n",
      "tensor([[1., 1., 1.],\n",
      "        [1., 1., 1.]])\n",
      "[[1. 1. 1.]\n",
      " [1. 1. 1.]]\n"
     ]
    }
   ],
   "source": [
    "#Tensor与Numpy\n",
    "\n",
    "import numpy as np\n",
    "a = np.ones([2, 3], dtype=np.float32)\n",
    "b = t.from_numpy(a)\n",
    "c = t.Tensor(a)\n",
    "d = b.numpy()\n",
    "print(a)\n",
    "print(b)\n",
    "print(c)\n",
    "print(d)"
   ]
  },
  {
   "cell_type": "code",
   "execution_count": null,
   "metadata": {},
   "outputs": [],
   "source": []
  },
  {
   "cell_type": "code",
   "execution_count": null,
   "metadata": {},
   "outputs": [],
   "source": []
  }
 ],
 "metadata": {
  "kernelspec": {
   "display_name": "Python 3",
   "language": "python",
   "name": "python3"
  },
  "language_info": {
   "codemirror_mode": {
    "name": "ipython",
    "version": 3
   },
   "file_extension": ".py",
   "mimetype": "text/x-python",
   "name": "python",
   "nbconvert_exporter": "python",
   "pygments_lexer": "ipython3",
   "version": "3.7.1"
  }
 },
 "nbformat": 4,
 "nbformat_minor": 2
}
