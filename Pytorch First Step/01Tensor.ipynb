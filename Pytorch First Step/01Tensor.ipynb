{
 "cells": [
  {
   "cell_type": "code",
   "execution_count": 3,
   "metadata": {},
   "outputs": [
    {
     "data": {
      "text/plain": [
       "tensor([[1.5469e+03, 4.5724e-41, 1.5469e+03],\n",
       "        [4.5724e-41, 1.4013e-45, 0.0000e+00],\n",
       "        [1.4013e-45, 0.0000e+00, 1.4013e-45],\n",
       "        [0.0000e+00, 9.0911e+26, 1.6707e+22],\n",
       "        [9.6651e-39, 1.0561e-38, 1.6615e+35]])"
      ]
     },
     "execution_count": 3,
     "metadata": {},
     "output_type": "execute_result"
    }
   ],
   "source": [
    "from __future__ import print_function\n",
    "import torch as t\n",
    "import numpy as np\n",
    "#指定形状\n",
    "x = t.Tensor(5, 3)\n",
    "x"
   ]
  },
  {
   "cell_type": "code",
   "execution_count": 4,
   "metadata": {},
   "outputs": [
    {
     "data": {
      "text/plain": [
       "tensor([[6.4485e-02, 3.6213e-01, 9.0230e-02],\n",
       "        [4.0126e-04, 1.2015e-01, 6.6389e-01],\n",
       "        [9.6473e-01, 2.4135e-01, 4.2606e-02],\n",
       "        [7.4289e-01, 6.0757e-01, 4.9955e-01],\n",
       "        [8.0281e-02, 2.1153e-01, 2.8384e-01]])"
      ]
     },
     "execution_count": 4,
     "metadata": {},
     "output_type": "execute_result"
    }
   ],
   "source": [
    "#使用[0,1]均匀分布随机初始化二维数组\n",
    "x = t.rand(5, 3)\n",
    "y = t.rand(5, 3)\n",
    "x"
   ]
  },
  {
   "cell_type": "code",
   "execution_count": 5,
   "metadata": {},
   "outputs": [
    {
     "name": "stdout",
     "output_type": "stream",
     "text": [
      "torch.Size([5, 3])\n"
     ]
    },
    {
     "data": {
      "text/plain": [
       "5"
      ]
     },
     "execution_count": 5,
     "metadata": {},
     "output_type": "execute_result"
    }
   ],
   "source": [
    "#查看x形状\n",
    "print(x.size())\n",
    "\n",
    "#查看列个数,方法1\n",
    "#方法1\n",
    "x.size()[0]\n",
    "\n",
    "#方法2\n",
    "x.size(0)\n"
   ]
  },
  {
   "cell_type": "code",
   "execution_count": 6,
   "metadata": {},
   "outputs": [
    {
     "data": {
      "text/plain": [
       "tensor([[0.7659, 0.3630, 0.7677],\n",
       "        [0.0308, 0.1960, 0.8200],\n",
       "        [1.3477, 0.7604, 0.9311],\n",
       "        [1.2765, 0.7849, 0.6634],\n",
       "        [0.7062, 0.7491, 0.3598]])"
      ]
     },
     "execution_count": 6,
     "metadata": {},
     "output_type": "execute_result"
    }
   ],
   "source": [
    "x + y         #1\n",
    "t.add(x, y)   #2\n",
    "result = t.Tensor(5, 3)    #3 \n",
    "t.add(x, y, out=result)\n",
    "result"
   ]
  },
  {
   "cell_type": "code",
   "execution_count": 7,
   "metadata": {},
   "outputs": [
    {
     "name": "stdout",
     "output_type": "stream",
     "text": [
      "最初的y\n",
      "tensor([[0.7014, 0.0009, 0.6775],\n",
      "        [0.0304, 0.0759, 0.1562],\n",
      "        [0.3829, 0.5190, 0.8885],\n",
      "        [0.5336, 0.1774, 0.1638],\n",
      "        [0.6259, 0.5376, 0.0760]])\n",
      "第一种加法结果\n",
      "tensor([[0.7014, 0.0009, 0.6775],\n",
      "        [0.0304, 0.0759, 0.1562],\n",
      "        [0.3829, 0.5190, 0.8885],\n",
      "        [0.5336, 0.1774, 0.1638],\n",
      "        [0.6259, 0.5376, 0.0760]])\n",
      "第二种加法结果\n",
      "tensor([[0.7659, 0.3630, 0.7677],\n",
      "        [0.0308, 0.1960, 0.8200],\n",
      "        [1.3477, 0.7604, 0.9311],\n",
      "        [1.2765, 0.7849, 0.6634],\n",
      "        [0.7062, 0.7491, 0.3598]])\n"
     ]
    }
   ],
   "source": [
    "print ('最初的y')\n",
    "print (y)\n",
    "\n",
    "print('第一种加法结果')\n",
    "y.add(x)  #普通加法，不改变y的值\n",
    "print (y)\n",
    "\n",
    "print('第二种加法结果')\n",
    "y.add_(x)  #inplace 加法，改变y的值\n",
    "print (y)"
   ]
  },
  {
   "cell_type": "code",
   "execution_count": 8,
   "metadata": {},
   "outputs": [
    {
     "name": "stdout",
     "output_type": "stream",
     "text": [
      "tensor([[6.4485e-02, 3.6213e-01, 9.0230e-02],\n",
      "        [4.0126e-04, 1.2015e-01, 6.6389e-01],\n",
      "        [9.6473e-01, 2.4135e-01, 4.2606e-02],\n",
      "        [7.4289e-01, 6.0757e-01, 4.9955e-01],\n",
      "        [8.0281e-02, 2.1153e-01, 2.8384e-01]])\n"
     ]
    },
    {
     "data": {
      "text/plain": [
       "tensor([0.3621, 0.1202, 0.2414, 0.6076, 0.2115])"
      ]
     },
     "execution_count": 8,
     "metadata": {},
     "output_type": "execute_result"
    }
   ],
   "source": [
    "print(x)\n",
    "x[:,1]"
   ]
  },
  {
   "cell_type": "code",
   "execution_count": 9,
   "metadata": {},
   "outputs": [
    {
     "data": {
      "text/plain": [
       "(tensor([1., 1., 1., 1., 1.]), array([1., 1., 1., 1., 1.], dtype=float32))"
      ]
     },
     "execution_count": 9,
     "metadata": {},
     "output_type": "execute_result"
    }
   ],
   "source": [
    "a = t.ones(5)\n",
    "b = a.numpy()   #Tensor ==> numpy\n",
    "a, b"
   ]
  },
  {
   "cell_type": "code",
   "execution_count": 10,
   "metadata": {},
   "outputs": [
    {
     "data": {
      "text/plain": [
       "(array([1., 1., 1., 1., 1.]),\n",
       " tensor([1., 1., 1., 1., 1.], dtype=torch.float64))"
      ]
     },
     "execution_count": 10,
     "metadata": {},
     "output_type": "execute_result"
    }
   ],
   "source": [
    "a = np.ones(5)\n",
    "b = t.from_numpy(a)\n",
    "a, b"
   ]
  },
  {
   "cell_type": "code",
   "execution_count": 11,
   "metadata": {},
   "outputs": [
    {
     "data": {
      "text/plain": [
       "(array([2., 2., 2., 2., 2.]),\n",
       " tensor([2., 2., 2., 2., 2.], dtype=torch.float64))"
      ]
     },
     "execution_count": 11,
     "metadata": {},
     "output_type": "execute_result"
    }
   ],
   "source": [
    "b.add_(1)\n",
    "a, b"
   ]
  },
  {
   "cell_type": "code",
   "execution_count": 12,
   "metadata": {},
   "outputs": [
    {
     "data": {
      "text/plain": [
       "tensor([[0.8304, 0.7252, 0.8579],\n",
       "        [0.0312, 0.3162, 1.4839],\n",
       "        [2.3124, 1.0018, 0.9737],\n",
       "        [2.0194, 1.3925, 1.1629],\n",
       "        [0.7865, 0.9607, 0.6436]], device='cuda:0')"
      ]
     },
     "execution_count": 12,
     "metadata": {},
     "output_type": "execute_result"
    }
   ],
   "source": [
    "if t.cuda.is_available():\n",
    "    x = x.cuda()\n",
    "    y = y.cuda()\n",
    "    z = x + y\n",
    "z"
   ]
  },
  {
   "cell_type": "code",
   "execution_count": 13,
   "metadata": {},
   "outputs": [
    {
     "data": {
      "text/plain": [
       "tensor([[1., 2., 3.],\n",
       "        [4., 5., 6.]])"
      ]
     },
     "execution_count": 13,
     "metadata": {},
     "output_type": "execute_result"
    }
   ],
   "source": [
    "#用list的数据创建\n",
    "a = t.Tensor([[1, 2, 3],[4, 5, 6]])\n",
    "a"
   ]
  },
  {
   "cell_type": "code",
   "execution_count": 17,
   "metadata": {},
   "outputs": [
    {
     "data": {
      "text/plain": [
       "[[1.0, 2.0, 3.0], [4.0, 5.0, 6.0]]"
      ]
     },
     "execution_count": 17,
     "metadata": {},
     "output_type": "execute_result"
    }
   ],
   "source": [
    "#把tensor转为list\n",
    "a.tolist()"
   ]
  },
  {
   "cell_type": "code",
   "execution_count": 18,
   "metadata": {},
   "outputs": [
    {
     "data": {
      "text/plain": [
       "6"
      ]
     },
     "execution_count": 18,
     "metadata": {},
     "output_type": "execute_result"
    }
   ],
   "source": [
    "#返回元素个数,等价a.nelement()\n",
    "a.numel()"
   ]
  },
  {
   "cell_type": "code",
   "execution_count": 20,
   "metadata": {},
   "outputs": [
    {
     "data": {
      "text/plain": [
       "torch.Size([2, 3])"
      ]
     },
     "execution_count": 20,
     "metadata": {},
     "output_type": "execute_result"
    }
   ],
   "source": [
    "a.size()"
   ]
  },
  {
   "cell_type": "code",
   "execution_count": 44,
   "metadata": {},
   "outputs": [
    {
     "name": "stdout",
     "output_type": "stream",
     "text": [
      "tensor([[1.5469e+03, 4.5724e-41, 1.5469e+03, 4.5724e-41, 0.0000e+00],\n",
      "        [0.0000e+00, 0.0000e+00, 0.0000e+00, 0.0000e+00, 0.0000e+00],\n",
      "        [0.0000e+00, 0.0000e+00, 0.0000e+00, 0.0000e+00, 1.5469e+03]])\n",
      "tensor([2., 3.])\n",
      "tensor([[1.5469e+03, 4.5724e-41, 1.5469e+03],\n",
      "        [4.5724e-41, 4.4842e-44, 0.0000e+00]])\n"
     ]
    }
   ],
   "source": [
    "#形状对比\n",
    "b = t.Tensor(a.size())\n",
    "c = t.Tensor([2, 3])\n",
    "d = t.Tensor(t.Size([2, 3]))\n",
    "print(b)\n",
    "print(c)\n",
    "print(d)"
   ]
  },
  {
   "cell_type": "code",
   "execution_count": 45,
   "metadata": {},
   "outputs": [
    {
     "name": "stdout",
     "output_type": "stream",
     "text": [
      "tensor([[1., 1., 1., 1., 1.],\n",
      "        [1., 1., 1., 1., 1.],\n",
      "        [1., 1., 1., 1., 1.]])\n",
      "tensor([[0., 0., 0., 0.],\n",
      "        [0., 0., 0., 0.]])\n",
      "tensor([ 1., 10.])\n",
      "tensor([1, 3, 5, 7, 9])\n",
      "tensor([[ 0.7548,  0.2191, -0.2791],\n",
      "        [-1.7773,  1.2422, -0.3086],\n",
      "        [ 1.6460,  0.3187, -0.4255]])\n",
      "tensor([[1., 0., 0.],\n",
      "        [0., 1., 0.],\n",
      "        [0., 0., 1.]])\n",
      "tensor([[1., 0., 0., 0.],\n",
      "        [0., 1., 0., 0.],\n",
      "        [0., 0., 1., 0.]])\n"
     ]
    }
   ],
   "source": [
    "a = t.ones(3, 5)\n",
    "b = t.zeros(2, 4)\n",
    "c = t.linspace(1, 10 ,2)\n",
    "d = t.arange(1, 10, 2)\n",
    "e = t.randn(3, 3)\n",
    "f = t.eye(3, 3)\n",
    "g = t.eye(3, 4)\n",
    "print(a)\n",
    "print(b)\n",
    "print(c)\n",
    "print(d)\n",
    "print(e)\n",
    "print(f)\n",
    "print(g)"
   ]
  },
  {
   "cell_type": "code",
   "execution_count": 111,
   "metadata": {},
   "outputs": [
    {
     "name": "stdout",
     "output_type": "stream",
     "text": [
      "tensor([0, 1, 2, 3, 4, 5])\n",
      "torch.Size([2, 3])\n",
      "tensor([[0, 1, 2],\n",
      "        [3, 4, 5]])\n"
     ]
    }
   ],
   "source": [
    "#tensor.view可以调整tensor的形状\n",
    "a = t.arange(0, 6)\n",
    "print(a)\n",
    "print(a.view(2, 3).size())   #等价与reshape()、resize()\n",
    "\n",
    "b = a.view(-1, 3)\n",
    "print(b)"
   ]
  },
  {
   "cell_type": "code",
   "execution_count": 113,
   "metadata": {},
   "outputs": [
    {
     "name": "stdout",
     "output_type": "stream",
     "text": [
      "tensor([[0, 1, 2],\n",
      "        [3, 4, 5]])\n",
      "torch.Size([2, 3])\n",
      "torch.Size([2, 1, 3])\n"
     ]
    }
   ],
   "source": [
    "#unsqueeze\n",
    "print(b)\n",
    "print(b.size())\n",
    "print(b.unsqueeze(1).size())"
   ]
  },
  {
   "cell_type": "code",
   "execution_count": 114,
   "metadata": {},
   "outputs": [
    {
     "name": "stdout",
     "output_type": "stream",
     "text": [
      "tensor([[[[[0, 1, 2]]]],\n",
      "\n",
      "\n",
      "\n",
      "        [[[[3, 4, 5]]]]])\n",
      "torch.Size([2, 1, 1, 3])\n",
      "torch.Size([2, 3])\n"
     ]
    }
   ],
   "source": [
    "#squeeze,压缩所有1维\n",
    "c = b.view(2, 1, 1, 1, 3)\n",
    "print(c)\n",
    "print(c.squeeze(1).size())\n",
    "print(c.squeeze().size())"
   ]
  },
  {
   "cell_type": "code",
   "execution_count": 151,
   "metadata": {},
   "outputs": [
    {
     "data": {
      "text/plain": [
       "tensor([[ 0,  1,  2,  3],\n",
       "        [10, 10, 10, 10],\n",
       "        [ 8,  9, 10, 11],\n",
       "        [ 0,  0,  0, 65]])"
      ]
     },
     "execution_count": 151,
     "metadata": {},
     "output_type": "execute_result"
    }
   ],
   "source": [
    "re = t.arange(0,12)\n",
    "re = re.view(3,4)\n",
    "re[1] = 10\n",
    "re.resize_(4,4)   #自动分配空间\n",
    "re"
   ]
  },
  {
   "cell_type": "markdown",
   "metadata": {},
   "source": [
    "#### 索引"
   ]
  },
  {
   "cell_type": "code",
   "execution_count": 169,
   "metadata": {},
   "outputs": [
    {
     "name": "stdout",
     "output_type": "stream",
     "text": [
      "tensor([[ 1.7043,  0.5834, -0.1240, -0.0676],\n",
      "        [ 0.5247,  1.8704,  1.2117, -0.3787],\n",
      "        [ 0.4269,  0.3531,  0.8769,  0.8907]])\n",
      "tensor([ 1.7043,  0.5834, -0.1240, -0.0676])\n",
      "tensor([1.7043, 0.5247, 0.4269])\n",
      "tensor(-0.1240)\n",
      "tensor([[ 1.7043,  0.5834, -0.1240, -0.0676],\n",
      "        [ 0.5247,  1.8704,  1.2117, -0.3787]])\n",
      "tensor([[-0.1240, -0.0676],\n",
      "        [ 1.2117, -0.3787]])\n",
      "tensor([[1, 0, 0, 0],\n",
      "        [0, 1, 1, 0],\n",
      "        [0, 0, 0, 0]], dtype=torch.uint8)\n"
     ]
    }
   ],
   "source": [
    "a = t.randn(3, 4)\n",
    "print(a)\n",
    "print(a[0])    #第0行\n",
    "print(a[:, 0])    #第0列\n",
    "print(a[(0,2)])  #等价于   a[0][2] \n",
    "print(a[:2])    #前两行\n",
    "print(a[:2, 2:])     #前两行后两列\n",
    "print(a>1)     #返回真假"
   ]
  },
  {
   "cell_type": "code",
   "execution_count": null,
   "metadata": {},
   "outputs": [],
   "source": []
  },
  {
   "cell_type": "code",
   "execution_count": null,
   "metadata": {},
   "outputs": [],
   "source": []
  },
  {
   "cell_type": "code",
   "execution_count": null,
   "metadata": {},
   "outputs": [],
   "source": []
  },
  {
   "cell_type": "code",
   "execution_count": null,
   "metadata": {},
   "outputs": [],
   "source": []
  },
  {
   "cell_type": "code",
   "execution_count": null,
   "metadata": {},
   "outputs": [],
   "source": []
  },
  {
   "cell_type": "code",
   "execution_count": null,
   "metadata": {},
   "outputs": [],
   "source": []
  },
  {
   "cell_type": "code",
   "execution_count": null,
   "metadata": {},
   "outputs": [],
   "source": []
  },
  {
   "cell_type": "code",
   "execution_count": null,
   "metadata": {},
   "outputs": [],
   "source": []
  },
  {
   "cell_type": "code",
   "execution_count": null,
   "metadata": {},
   "outputs": [],
   "source": []
  },
  {
   "cell_type": "code",
   "execution_count": null,
   "metadata": {},
   "outputs": [],
   "source": []
  }
 ],
 "metadata": {
  "kernelspec": {
   "display_name": "Python 3",
   "language": "python",
   "name": "python3"
  },
  "language_info": {
   "codemirror_mode": {
    "name": "ipython",
    "version": 3
   },
   "file_extension": ".py",
   "mimetype": "text/x-python",
   "name": "python",
   "nbconvert_exporter": "python",
   "pygments_lexer": "ipython3",
   "version": "3.7.1"
  }
 },
 "nbformat": 4,
 "nbformat_minor": 2
}
